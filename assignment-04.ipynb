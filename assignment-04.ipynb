{
 "cells": [
  {
   "cell_type": "markdown",
   "metadata": {},
   "source": [
    "## Part I Review the online programming."
   ]
  },
  {
   "cell_type": "code",
   "execution_count": 4,
   "metadata": {},
   "outputs": [],
   "source": [
    "original_price=[1,5,8,9,10,17,17,20,24,30]"
   ]
  },
  {
   "cell_type": "code",
   "execution_count": 5,
   "metadata": {},
   "outputs": [],
   "source": [
    "from collections import defaultdict"
   ]
  },
  {
   "cell_type": "code",
   "execution_count": 6,
   "metadata": {},
   "outputs": [],
   "source": [
    "price=defaultdict(int)"
   ]
  },
  {
   "cell_type": "code",
   "execution_count": 7,
   "metadata": {},
   "outputs": [],
   "source": [
    "for i,p in enumerate(original_price):\n",
    "    price[i+1]=p"
   ]
  },
  {
   "cell_type": "code",
   "execution_count": 8,
   "metadata": {},
   "outputs": [],
   "source": [
    "assert price[1]==1"
   ]
  },
  {
   "cell_type": "code",
   "execution_count": 17,
   "metadata": {},
   "outputs": [],
   "source": [
    "from functools import lru_cache"
   ]
  },
  {
   "cell_type": "code",
   "execution_count": 18,
   "metadata": {},
   "outputs": [],
   "source": [
    "@lru_cache(maxsize=2**10)\n",
    "#@memo\n",
    "def r(n):\n",
    "    max_price,split_point= max([(price[n],0)]+[(r(i)+r(n-i),i) for i in range(1,n)],key=lambda x:x[0])\n",
    "    solution[n]=(split_point,n-split_point)\n",
    "    return max_price"
   ]
  },
  {
   "cell_type": "code",
   "execution_count": 28,
   "metadata": {},
   "outputs": [],
   "source": [
    "def not_cut(split):return split==0"
   ]
  },
  {
   "cell_type": "code",
   "execution_count": 31,
   "metadata": {},
   "outputs": [],
   "source": [
    "def parse_solution(target_length,revenue_solution):\n",
    "    left,right=revenue_solution[target_length]\n",
    "    if not_cut(left):\n",
    "        return [right]\n",
    "    return parse_solution(left,revenue_solution)+parse_solution(right,revenue_solution)"
   ]
  },
  {
   "cell_type": "code",
   "execution_count": 32,
   "metadata": {},
   "outputs": [
    {
     "data": {
      "text/plain": [
       "[2, 3, 10]"
      ]
     },
     "execution_count": 32,
     "metadata": {},
     "output_type": "execute_result"
    }
   ],
   "source": [
    "parse_solution(15,solution)"
   ]
  },
  {
   "cell_type": "code",
   "execution_count": 19,
   "metadata": {},
   "outputs": [
    {
     "data": {
      "text/plain": [
       "43"
      ]
     },
     "execution_count": 19,
     "metadata": {},
     "output_type": "execute_result"
    }
   ],
   "source": [
    "r(15)"
   ]
  },
  {
   "cell_type": "code",
   "execution_count": 1,
   "metadata": {},
   "outputs": [],
   "source": [
    "solution={}"
   ]
  },
  {
   "cell_type": "code",
   "execution_count": 16,
   "metadata": {},
   "outputs": [
    {
     "data": {
      "text/plain": [
       "{1: (0, 1),\n",
       " 2: (0, 2),\n",
       " 3: (0, 3),\n",
       " 4: (2, 2),\n",
       " 5: (2, 3),\n",
       " 6: (0, 6),\n",
       " 7: (1, 6),\n",
       " 8: (2, 6),\n",
       " 9: (3, 6),\n",
       " 10: (0, 10),\n",
       " 11: (1, 10),\n",
       " 12: (2, 10),\n",
       " 13: (3, 10),\n",
       " 14: (2, 12),\n",
       " 15: (2, 13)}"
      ]
     },
     "execution_count": 16,
     "metadata": {},
     "output_type": "execute_result"
    }
   ],
   "source": [
    "solution"
   ]
  },
  {
   "cell_type": "code",
   "execution_count": 20,
   "metadata": {},
   "outputs": [],
   "source": [
    "import time"
   ]
  },
  {
   "cell_type": "code",
   "execution_count": 26,
   "metadata": {},
   "outputs": [],
   "source": [
    "def get_call_time(func):\n",
    "    def _inner(*args,**kwargs):\n",
    "        start=time.time()\n",
    "        result=func(arg)\n",
    "        print('used time:{}'.format(time.time()-start))\n",
    "        return result\n",
    "    return _inner"
   ]
  },
  {
   "cell_type": "code",
   "execution_count": 22,
   "metadata": {},
   "outputs": [],
   "source": [
    "#@get_call_time\n",
    "def func_1(n):\n",
    "    for i in range(n):\n",
    "        print(i)"
   ]
  },
  {
   "cell_type": "code",
   "execution_count": 24,
   "metadata": {},
   "outputs": [],
   "source": [
    "func_1_get_called_time=get_call_time(func_1)"
   ]
  },
  {
   "cell_type": "code",
   "execution_count": 25,
   "metadata": {},
   "outputs": [
    {
     "name": "stdout",
     "output_type": "stream",
     "text": [
      "0\n",
      "1\n",
      "2\n",
      "3\n",
      "4\n",
      "5\n",
      "6\n",
      "7\n",
      "8\n",
      "9\n",
      "used time:-0.0010001659393310547\n"
     ]
    }
   ],
   "source": [
    "func_1_get_called_time(10)"
   ]
  },
  {
   "cell_type": "code",
   "execution_count": 27,
   "metadata": {},
   "outputs": [],
   "source": [
    "def memo(func):\n",
    "    cache={}\n",
    "    def _wrap(n):\n",
    "        if n in cache:result=cache[n]\n",
    "        else:\n",
    "            result=func(n)\n",
    "            cache[n]=result\n",
    "        return result\n",
    "    return _wrap"
   ]
  },
  {
   "cell_type": "code",
   "execution_count": 33,
   "metadata": {},
   "outputs": [],
   "source": [
    "@lru_cache(maxsize=2**10)\n",
    "def edit_distance(string1,string2):\n",
    "    if len(string1)==0:return len(string2)\n",
    "    if len(string2)==0:return len(string1)\n",
    "    \n",
    "    tail_s1=string1[-1]\n",
    "    tail_s2=string2[-1]\n",
    "    \n",
    "    candidates=[\n",
    "        (edit_distance(string1[:-1],string2)+1,'DEL {}'.format(tail_s1)),\n",
    "        (edit_distance(string1,string2[:-1])+1,'ADD {}'.format(tail_s2))\n",
    "    ]\n",
    "    if tail_s1==tail_s2:\n",
    "        both_forward=(edit_distance(string1[:-1],string2[:-1]),'')\n",
    "    else:\n",
    "        both_forward=(edit_distance(string1[:-1],string2[:-1])+2,'SUB {}=>{}'.format(tail_s1,tail_s2))\n",
    "    candidates.append(both_forward)\n",
    "    \n",
    "    min_edit_dis,operation= min(candidates,key=lambda x:x[0])\n",
    "    solution[(string1,string2)]=operation\n",
    "    \n",
    "    return min_edit_dis"
   ]
  },
  {
   "cell_type": "code",
   "execution_count": 30,
   "metadata": {},
   "outputs": [
    {
     "data": {
      "text/plain": [
       "4"
      ]
     },
     "execution_count": 30,
     "metadata": {},
     "output_type": "execute_result"
    }
   ],
   "source": [
    "edit_distance('BBCD','ABCC')"
   ]
  },
  {
   "cell_type": "code",
   "execution_count": 31,
   "metadata": {},
   "outputs": [
    {
     "data": {
      "text/plain": [
       "{('B', 'A'): 'DEL B',\n",
       " ('B', 'AB'): '',\n",
       " ('B', 'ABC'): 'ADD C',\n",
       " ('B', 'ABCC'): 'ADD C',\n",
       " ('BB', 'A'): 'DEL B',\n",
       " ('BB', 'AB'): 'DEL B',\n",
       " ('BB', 'ABC'): 'DEL B',\n",
       " ('BB', 'ABCC'): 'DEL B',\n",
       " ('BBC', 'A'): 'DEL C',\n",
       " ('BBC', 'AB'): 'DEL C',\n",
       " ('BBC', 'ABC'): '',\n",
       " ('BBC', 'ABCC'): 'ADD C',\n",
       " ('BBCD', 'A'): 'DEL D',\n",
       " ('BBCD', 'AB'): 'DEL D',\n",
       " ('BBCD', 'ABC'): 'DEL D',\n",
       " ('BBCD', 'ABCC'): 'DEL D'}"
      ]
     },
     "execution_count": 31,
     "metadata": {},
     "output_type": "execute_result"
    }
   ],
   "source": [
    "solution"
   ]
  },
  {
   "cell_type": "markdown",
   "metadata": {},
   "source": [
    "## Part1-2: Finish the Solution Parse Part of Edit-Distance"
   ]
  },
  {
   "cell_type": "code",
   "execution_count": 42,
   "metadata": {},
   "outputs": [],
   "source": [
    "def parse_solution(string1,string2,solutions):\n",
    "    if not string1 or not string2:\n",
    "        return ''\n",
    "    ans=solutions[(string1,string2)]\n",
    "    if ans.startswith('ADD'):\n",
    "        return ans+','+parse_solution(string1,string2[:-1],solutions)\n",
    "    elif ans.startswith('DEL'):\n",
    "        return ans+','+parse_solution(string1[:-1],string2,solutions)\n",
    "    return ans+','+parse_solution(string1[:-1],string2[:-1],solutions)"
   ]
  },
  {
   "cell_type": "code",
   "execution_count": 43,
   "metadata": {},
   "outputs": [
    {
     "data": {
      "text/plain": [
       "'DEL D,ADD C,,DEL B,,'"
      ]
     },
     "execution_count": 43,
     "metadata": {},
     "output_type": "execute_result"
    }
   ],
   "source": [
    "parse_solution('BBCD','ABCC',solution)"
   ]
  },
  {
   "cell_type": "markdown",
   "metadata": {},
   "source": [
    "## Part 3: Answer following questions:"
   ]
  },
  {
   "cell_type": "markdown",
   "metadata": {},
   "source": [
    "Why do we need dynamic programming? What's the difference of dynamic programming and previous talked search problme?\n",
    "\n",
    "Ans:动态规划可以节省大量的时间。动态规划与之前提到的搜索问题的不同之处是可以分解为子问题，从而可以通过查表来提高运行速度。\n",
    "\n",
    "Why do we still need dynamic programming? Why not we train a machine learning to fit a function which could get the right answer based on inputs?\n",
    "\n",
    "Ans:动态规划方法不需要训练数据也可以胜任很多任务。机器学习方法需要训练数据，机器学习训练可能需要大量时间。\n",
    "\n",
    "Can you catch up at least 3 problems which could solved by Dynamic Programming?\n",
    "\n",
    "Ans:1.瓷砖如何切割使得盈利最大化问题。2.银行运钞车行驶路线规划问题。3.外卖APP送餐员任务分配问题。\n",
    "\n",
    "Can you catch up at least 3 problems wich could sloved by Edit Distance?\n",
    "\n",
    "Ans:1.拼写纠正。2.文章抄袭检查。3.用于语音识别\n",
    "\n",
    "Please summarize the three main features of Dynamic Programming, and make a concise explain for each feature.\n",
    "\n",
    "Ans:1.重复的子问题。2.子问题的存储。3.解决方案的解析。\n",
    "\n",
    "What's the disadvantages of Dynamic Programming? (You may need search by yourself in Internet)\n",
    "\n",
    "Ans:空间需求大。"
   ]
  }
 ],
 "metadata": {
  "kernelspec": {
   "display_name": "Python 3",
   "language": "python",
   "name": "python3"
  },
  "language_info": {
   "codemirror_mode": {
    "name": "ipython",
    "version": 3
   },
   "file_extension": ".py",
   "mimetype": "text/x-python",
   "name": "python",
   "nbconvert_exporter": "python",
   "pygments_lexer": "ipython3",
   "version": "3.7.1"
  }
 },
 "nbformat": 4,
 "nbformat_minor": 2
}
