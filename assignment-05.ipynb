{
 "cells": [
  {
   "cell_type": "code",
   "execution_count": 1,
   "metadata": {},
   "outputs": [
    {
     "name": "stderr",
     "output_type": "stream",
     "text": [
      "C:\\ProgramData\\Anaconda3\\lib\\site-packages\\smart_open\\ssh.py:34: UserWarning: paramiko missing, opening SSH/SCP/SFTP paths will be disabled.  `pip install paramiko` to suppress\n",
      "  warnings.warn('paramiko missing, opening SSH/SCP/SFTP paths will be disabled.  `pip install paramiko` to suppress')\n",
      "C:\\ProgramData\\Anaconda3\\lib\\site-packages\\gensim\\utils.py:1197: UserWarning: detected Windows; aliasing chunkize to chunkize_serial\n",
      "  warnings.warn(\"detected Windows; aliasing chunkize to chunkize_serial\")\n"
     ]
    }
   ],
   "source": [
    "from gensim.models import Word2Vec"
   ]
  },
  {
   "cell_type": "code",
   "execution_count": 2,
   "metadata": {},
   "outputs": [],
   "source": [
    "sentences=[['cat','say','meow'],['dog','say','woof']]"
   ]
  },
  {
   "cell_type": "code",
   "execution_count": 3,
   "metadata": {},
   "outputs": [],
   "source": [
    "model=Word2Vec(sentences,min_count=1)"
   ]
  },
  {
   "cell_type": "code",
   "execution_count": 4,
   "metadata": {},
   "outputs": [
    {
     "name": "stderr",
     "output_type": "stream",
     "text": [
      "C:\\ProgramData\\Anaconda3\\lib\\site-packages\\ipykernel_launcher.py:1: DeprecationWarning: Call to deprecated `most_similar` (Method will be removed in 4.0.0, use self.wv.most_similar() instead).\n",
      "  \"\"\"Entry point for launching an IPython kernel.\n"
     ]
    },
    {
     "data": {
      "text/plain": [
       "[('woof', 0.24015721678733826),\n",
       " ('meow', 0.1475563794374466),\n",
       " ('dog', 0.07142529636621475),\n",
       " ('say', -0.004200795665383339)]"
      ]
     },
     "execution_count": 4,
     "metadata": {},
     "output_type": "execute_result"
    }
   ],
   "source": [
    "model.most_similar('cat')"
   ]
  },
  {
   "cell_type": "code",
   "execution_count": 5,
   "metadata": {},
   "outputs": [
    {
     "data": {
      "text/plain": [
       "array([ 7.8601891e-04, -2.0595626e-03,  1.6244206e-03,  4.9857483e-03,\n",
       "       -7.4772723e-04,  1.8173503e-03, -1.3110122e-03,  1.8172717e-03,\n",
       "        3.5676104e-03,  2.7049130e-03, -2.5178681e-04, -3.2494410e-03,\n",
       "       -1.4087127e-03,  2.1958230e-03,  1.8497023e-03, -4.9357070e-03,\n",
       "       -4.7560390e-03, -3.9838026e-03, -4.8627364e-03,  4.8002121e-03,\n",
       "       -2.3121424e-03,  2.5045120e-03,  1.3030197e-03, -4.5653027e-03,\n",
       "       -2.7263246e-03,  3.9618090e-03, -1.4276261e-03,  8.9569861e-04,\n",
       "        1.8964998e-03, -4.6506356e-03, -1.5780807e-03,  2.6432856e-03,\n",
       "       -1.8129060e-03, -2.1150375e-03,  1.0122433e-03,  1.4350809e-03,\n",
       "       -2.1843500e-03, -2.9184211e-03, -1.0609084e-03, -1.1639479e-03,\n",
       "       -2.9597750e-03,  9.4244424e-06, -3.1066153e-03,  3.3535557e-03,\n",
       "        1.8971012e-04, -3.1980141e-03, -3.9815838e-03,  3.0453205e-03,\n",
       "        4.8234509e-03,  4.7787726e-03, -3.2761886e-03,  4.1732155e-03,\n",
       "        2.1618367e-03, -3.1017151e-03,  8.6499448e-04,  9.1397786e-05,\n",
       "        1.0376248e-03, -1.5869052e-03, -3.8625137e-03, -6.2136468e-04,\n",
       "        3.2208709e-03, -3.6698577e-03,  3.1876005e-03, -2.6219871e-03,\n",
       "        4.6021342e-03,  4.3054874e-04, -2.8719143e-03,  1.3368163e-04,\n",
       "       -2.3873968e-03, -1.2174738e-03, -7.8243262e-04,  1.2841333e-04,\n",
       "       -4.3141958e-03,  4.7170883e-03,  2.9167465e-03,  1.2494527e-03,\n",
       "       -1.4536980e-03,  3.5740105e-03,  3.7317714e-03,  3.8801145e-03,\n",
       "        2.3119233e-03,  7.1268040e-04, -9.2339097e-04,  2.0747748e-03,\n",
       "       -1.6272531e-04,  2.4468300e-03,  4.1006077e-03, -4.8024049e-03,\n",
       "       -6.1845225e-05, -3.9629929e-05,  3.5190652e-03, -1.0981355e-03,\n",
       "        4.4703893e-03,  3.1968569e-03, -3.6213011e-03, -2.7457669e-03,\n",
       "        4.1810493e-04, -9.4670750e-04,  1.1736525e-03, -1.4458032e-03],\n",
       "      dtype=float32)"
      ]
     },
     "execution_count": 5,
     "metadata": {},
     "output_type": "execute_result"
    }
   ],
   "source": [
    "model.wv['cat']"
   ]
  },
  {
   "cell_type": "code",
   "execution_count": 6,
   "metadata": {},
   "outputs": [
    {
     "data": {
      "text/plain": [
       "{'cat': <gensim.models.keyedvectors.Vocab at 0x51c5a90>,\n",
       " 'say': <gensim.models.keyedvectors.Vocab at 0x90887f0>,\n",
       " 'meow': <gensim.models.keyedvectors.Vocab at 0x9088a58>,\n",
       " 'dog': <gensim.models.keyedvectors.Vocab at 0x9088748>,\n",
       " 'woof': <gensim.models.keyedvectors.Vocab at 0x9088d68>}"
      ]
     },
     "execution_count": 6,
     "metadata": {},
     "output_type": "execute_result"
    }
   ],
   "source": [
    "model.wv.vocab"
   ]
  },
  {
   "cell_type": "code",
   "execution_count": 7,
   "metadata": {},
   "outputs": [],
   "source": [
    "from gensim.models.word2vec import LineSentence"
   ]
  },
  {
   "cell_type": "code",
   "execution_count": 9,
   "metadata": {},
   "outputs": [],
   "source": [
    "database='..\\\\..\\\\sqlResult_1558435.csv'"
   ]
  },
  {
   "cell_type": "code",
   "execution_count": 10,
   "metadata": {},
   "outputs": [],
   "source": [
    "import pandas as pd"
   ]
  },
  {
   "cell_type": "code",
   "execution_count": 11,
   "metadata": {},
   "outputs": [],
   "source": [
    "content=pd.read_csv(database,encoding='gb18030')"
   ]
  },
  {
   "cell_type": "code",
   "execution_count": 12,
   "metadata": {},
   "outputs": [],
   "source": [
    "samples=content['content'][:100].tolist()"
   ]
  },
  {
   "cell_type": "code",
   "execution_count": 20,
   "metadata": {},
   "outputs": [],
   "source": [
    "with open('mini_sample.txt','w',encoding='utf-8') as f:\n",
    "    for s in samples:\n",
    "        f.write(cut(s)+'\\n')"
   ]
  },
  {
   "cell_type": "code",
   "execution_count": 21,
   "metadata": {},
   "outputs": [],
   "source": [
    "sentences=LineSentence('mini_sample.txt')"
   ]
  },
  {
   "cell_type": "code",
   "execution_count": 15,
   "metadata": {},
   "outputs": [],
   "source": [
    "import jieba"
   ]
  },
  {
   "cell_type": "code",
   "execution_count": 16,
   "metadata": {},
   "outputs": [],
   "source": [
    "def cut(string):return ' '.join(jieba.cut(string))"
   ]
  },
  {
   "cell_type": "code",
   "execution_count": 22,
   "metadata": {},
   "outputs": [],
   "source": [
    "model=Word2Vec(sentences,min_count=1)"
   ]
  },
  {
   "cell_type": "code",
   "execution_count": 23,
   "metadata": {},
   "outputs": [
    {
     "data": {
      "text/plain": [
       "array([ 0.01151316, -0.06891706, -0.0307713 ,  0.00480495,  0.01550602,\n",
       "        0.00088587,  0.01933083,  0.05370426, -0.05366891,  0.02561428,\n",
       "       -0.05850199,  0.03213411, -0.01089066, -0.02691892, -0.06713075,\n",
       "        0.01888904, -0.02124962, -0.02214075, -0.05736223, -0.00835668,\n",
       "        0.01278533, -0.02827564, -0.00424706, -0.04715243,  0.00437699,\n",
       "        0.01385471, -0.04715975,  0.00328776, -0.02593498,  0.07865706,\n",
       "       -0.08498928,  0.01725052,  0.07044253,  0.00480299, -0.06572177,\n",
       "       -0.00391112,  0.02579793, -0.00222042,  0.0073731 , -0.0267274 ,\n",
       "       -0.07802165,  0.03354249, -0.03325253, -0.01363065,  0.0111105 ,\n",
       "        0.03708354,  0.04120234,  0.00766044, -0.04442948,  0.00514298,\n",
       "        0.02871114, -0.04060052,  0.04446502,  0.0627752 , -0.05899817,\n",
       "        0.02089731,  0.02482532, -0.06297019,  0.01763434,  0.00443782,\n",
       "        0.07653424,  0.01672684,  0.0560976 ,  0.12612784, -0.03093784,\n",
       "        0.05174281,  0.06214515, -0.02141584, -0.01761436,  0.00208023,\n",
       "       -0.07403557,  0.02974432,  0.03509003, -0.06748517, -0.02546292,\n",
       "        0.00428925, -0.01425943, -0.04319053, -0.00194714, -0.01125131,\n",
       "        0.01503025, -0.02149829, -0.01604493,  0.0080819 , -0.06174159,\n",
       "       -0.05706359, -0.0465901 , -0.03550407,  0.01934112, -0.01042575,\n",
       "        0.02864277,  0.01943924, -0.01478873, -0.00077244,  0.02297734,\n",
       "       -0.04435762,  0.04643022,  0.00864969, -0.05009361, -0.04559476],\n",
       "      dtype=float32)"
      ]
     },
     "execution_count": 23,
     "metadata": {},
     "output_type": "execute_result"
    }
   ],
   "source": [
    "model.wv['苹果']"
   ]
  },
  {
   "cell_type": "code",
   "execution_count": 25,
   "metadata": {},
   "outputs": [
    {
     "data": {
      "text/plain": [
       "[('报道', 0.9975531101226807),\n",
       " ('文件', 0.9975038170814514),\n",
       " ('近', 0.9974220395088196),\n",
       " ('跳水', 0.997416615486145),\n",
       " ('国际', 0.997378945350647),\n",
       " ('还有', 0.997368335723877),\n",
       " ('相关', 0.9973567724227905),\n",
       " ('索尼', 0.9973454475402832),\n",
       " ('其', 0.9973307251930237),\n",
       " ('到', 0.9973251819610596)]"
      ]
     },
     "execution_count": 25,
     "metadata": {},
     "output_type": "execute_result"
    }
   ],
   "source": [
    "model.wv.most_similar('苹果')"
   ]
  },
  {
   "cell_type": "code",
   "execution_count": null,
   "metadata": {},
   "outputs": [],
   "source": []
  }
 ],
 "metadata": {
  "kernelspec": {
   "display_name": "Python 3",
   "language": "python",
   "name": "python3"
  },
  "language_info": {
   "codemirror_mode": {
    "name": "ipython",
    "version": 3
   },
   "file_extension": ".py",
   "mimetype": "text/x-python",
   "name": "python",
   "nbconvert_exporter": "python",
   "pygments_lexer": "ipython3",
   "version": "3.7.1"
  }
 },
 "nbformat": 4,
 "nbformat_minor": 2
}
